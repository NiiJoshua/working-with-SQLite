{
 "cells": [
  {
   "cell_type": "markdown",
   "id": "71d91278",
   "metadata": {},
   "source": [
    "# Working with SQLite\n",
    "\n",
    "* SQLite needs no sever\n",
    "\n",
    "## Import libraries"
   ]
  },
  {
   "cell_type": "code",
   "execution_count": 3,
   "id": "a8bf752b",
   "metadata": {},
   "outputs": [],
   "source": [
    "# import SQL lite\n",
    "\n",
    "import sqlite3\n",
    "from sqlite3 import Error"
   ]
  },
  {
   "cell_type": "code",
   "execution_count": 4,
   "id": "43cde518",
   "metadata": {},
   "outputs": [],
   "source": [
    "def create_connection(path):\n",
    "    connection = None\n",
    "    try:\n",
    "        connection = sqlite3.connect(path)\n",
    "        print(\"Connection to SQLite DB successful\")\n",
    "    except Error as e:\n",
    "        print(f\"The error '{e}' occured\")\n",
    "        \n",
    "    return connection"
   ]
  },
  {
   "cell_type": "code",
   "execution_count": 5,
   "id": "b4c1cbf8",
   "metadata": {},
   "outputs": [
    {
     "name": "stdout",
     "output_type": "stream",
     "text": [
      "Connection to SQLite DB successful\n"
     ]
    }
   ],
   "source": [
    "# Create a connection with \n",
    "connection = create_connection(\"C:/Users/joshua.obeng/Documents/Learning/Personal/sm_app.sqlite\")"
   ]
  },
  {
   "cell_type": "code",
   "execution_count": 6,
   "id": "54ec7a92",
   "metadata": {},
   "outputs": [],
   "source": [
    "# Create a function that will help run the query\n",
    "def execute_query(connection, query):\n",
    "    cursor = connection.cursor()\n",
    "    try:\n",
    "        cursor.execute(query)\n",
    "        connection.commit()\n",
    "        print(\"Query executed successfully\")\n",
    "    except Error as e:\n",
    "        print(f\"The error '{e}' occured\")"
   ]
  },
  {
   "cell_type": "code",
   "execution_count": 7,
   "id": "0911213e",
   "metadata": {},
   "outputs": [],
   "source": [
    "# Create tables\n",
    "create_users_table = \"\"\"\n",
    "CREATE TABLE IF NOT EXISTS users (\n",
    "    id INTEGER PRIMARY KEY AUTOINCREMENT,\n",
    "    name TEXT NOT NULL,\n",
    "    age INTEGER,\n",
    "    gender TEXT,\n",
    "    nationality TEXT\n",
    ");\n",
    "\n",
    "\"\"\""
   ]
  },
  {
   "cell_type": "code",
   "execution_count": 8,
   "id": "95567072",
   "metadata": {},
   "outputs": [
    {
     "name": "stdout",
     "output_type": "stream",
     "text": [
      "Query executed successfully\n"
     ]
    }
   ],
   "source": [
    "# Execute the table using the query function\n",
    "execute_query(connection, create_users_table)"
   ]
  },
  {
   "cell_type": "code",
   "execution_count": 9,
   "id": "551f5ba2",
   "metadata": {},
   "outputs": [],
   "source": [
    "# Query to create posts table\n",
    "create_posts_table = \"\"\"\n",
    "CREATE TABLE IF NOT EXISTS posts (\n",
    "    id INTEGER PRIMARY KEY AUTOINCREMENT,\n",
    "    title TEXT NOT NULL,\n",
    "    description TEXT NOT NULL,\n",
    "    user_id INTEGER NOT NULL, \n",
    "    FOREIGN KEY (user_id) REFERENCES users (id)\n",
    ");\n",
    "\"\"\""
   ]
  },
  {
   "cell_type": "code",
   "execution_count": 10,
   "id": "473eea9a",
   "metadata": {},
   "outputs": [
    {
     "name": "stdout",
     "output_type": "stream",
     "text": [
      "Query executed successfully\n"
     ]
    }
   ],
   "source": [
    "execute_query(connection, create_posts_table)"
   ]
  },
  {
   "cell_type": "code",
   "execution_count": 11,
   "id": "3fb004ce",
   "metadata": {},
   "outputs": [
    {
     "name": "stdout",
     "output_type": "stream",
     "text": [
      "Query executed successfully\n",
      "Query executed successfully\n"
     ]
    }
   ],
   "source": [
    "# Creating and running tables for both comments table and likes table\n",
    "# create tables\n",
    "create_comments_table = \"\"\"\n",
    "CREATE TABLE IF NOT EXISTS comments (\n",
    "    id INTEGER PRIMARY KEY AUTOINCREMENT,\n",
    "    title TEXT NOT NULL,\n",
    "    user_id INTEGER NOT NULL, \n",
    "    post_id INTEGER NOT NULL,\n",
    "    FOREIGN KEY (user_id) REFERENCES users (id) FOREIGN KEY (post_id) REFERENCES posts (id)\n",
    ");\n",
    "\"\"\"\n",
    "\n",
    "create_likes_table = \"\"\"\n",
    "CREATE TABLE IF NOT EXISTS likes (\n",
    "    id INTEGER PRIMARY KEY AUTOINCREMENT,\n",
    "    user_id INTEGER NOT NULL, \n",
    "    post_id INTEGER NOT NULL,\n",
    "    FOREIGN KEY (user_id) REFERENCES users (id) FOREIGN KEY (post_id) REFERENCES posts (id)\n",
    ");\n",
    "\"\"\"\n",
    "\n",
    "# execute queries\n",
    "execute_query(connection, create_comments_table)\n",
    "execute_query(connection, create_likes_table)\n"
   ]
  },
  {
   "cell_type": "markdown",
   "id": "507d10e2",
   "metadata": {},
   "source": [
    "## Insert records"
   ]
  },
  {
   "cell_type": "code",
   "execution_count": 12,
   "id": "ddb58cbd",
   "metadata": {},
   "outputs": [
    {
     "name": "stdout",
     "output_type": "stream",
     "text": [
      "Query executed successfully\n"
     ]
    }
   ],
   "source": [
    "# Create records for users\n",
    "create_users = \"\"\"\n",
    "INSERT INTO\n",
    "    users (name, age, gender, nationality)\n",
    "VALUES\n",
    "    ('James',25,'male','USA'),\n",
    "    ('Leila',32,'female','France'),\n",
    "    ('Brigitte',35,'female','England'),\n",
    "    ('Mike',40,'male','Denmark'),\n",
    "    ('Elizabeth',21,'female','Canada')\n",
    "\"\"\"\n",
    "\n",
    "execute_query(connection, create_users)"
   ]
  },
  {
   "cell_type": "code",
   "execution_count": 13,
   "id": "c0e0cffd",
   "metadata": {},
   "outputs": [
    {
     "name": "stdout",
     "output_type": "stream",
     "text": [
      "Query executed successfully\n"
     ]
    }
   ],
   "source": [
    "# Create records for posts\n",
    "create_posts = \"\"\"\n",
    "INSERT INTO\n",
    "    posts (title, description, user_id)\n",
    "VALUES\n",
    "    ('Happy','I am feeling very happy today',1),\n",
    "    ('Hot Weather','The weather is very hot today',2),\n",
    "    ('Help','I need some help with my work',2),\n",
    "    ('Great News','I am getting married',1),\n",
    "    ('Interesting Game','It was a fantastic game of tennis',5),\n",
    "    ('Party','Anyone up for a late-night party today?',3);\n",
    "\"\"\"\n",
    "\n",
    "execute_query(connection, create_posts)"
   ]
  },
  {
   "cell_type": "code",
   "execution_count": 14,
   "id": "e615a78f",
   "metadata": {},
   "outputs": [
    {
     "name": "stdout",
     "output_type": "stream",
     "text": [
      "Query executed successfully\n",
      "Query executed successfully\n"
     ]
    }
   ],
   "source": [
    "# Create records for comments and likes\n",
    "\n",
    "create_comments = \"\"\"\n",
    "INSERT INTO\n",
    "  comments (title, user_id, post_id)\n",
    "VALUES\n",
    "  ('Count me in', 1, 6),\n",
    "  ('What sort of help?', 5, 3),\n",
    "  ('Congrats buddy', 2, 4),\n",
    "  ('I was rooting for Nadal though', 4, 5),\n",
    "  ('Help with your thesis?', 2, 3),\n",
    "  ('Many congratulations', 5, 4);\n",
    "\"\"\"\n",
    "\n",
    "create_likes = \"\"\"\n",
    "INSERT INTO\n",
    "  likes (user_id, post_id)\n",
    "VALUES\n",
    "  (1, 6),\n",
    "  (2, 3),\n",
    "  (1, 5),\n",
    "  (5, 4),\n",
    "  (2, 4),\n",
    "  (4, 2),\n",
    "  (3, 6);\n",
    "\"\"\"\n",
    "\n",
    "execute_query(connection, create_comments)\n",
    "execute_query(connection, create_likes)  \n"
   ]
  },
  {
   "cell_type": "markdown",
   "id": "e07eaac0",
   "metadata": {},
   "source": [
    "## Selecting records"
   ]
  },
  {
   "cell_type": "code",
   "execution_count": 15,
   "id": "d18473ce",
   "metadata": {},
   "outputs": [],
   "source": [
    "# define a function to execute the queries\n",
    "def execute_read_query(connection, query):\n",
    "    cursor = connection.cursor()\n",
    "    result = None\n",
    "    try:\n",
    "        cursor.execute(query)\n",
    "        result = cursor.fetchall()\n",
    "        return result\n",
    "    except Error as e:\n",
    "        print(f\"The error '{e}' occured \")\n"
   ]
  },
  {
   "cell_type": "code",
   "execution_count": 16,
   "id": "d1c9bc51",
   "metadata": {},
   "outputs": [
    {
     "name": "stdout",
     "output_type": "stream",
     "text": [
      "(1, 'James', 25, 'male', 'USA')\n",
      "(2, 'Leila', 32, 'female', 'France')\n",
      "(3, 'Brigitte', 35, 'female', 'England')\n",
      "(4, 'Mike', 40, 'male', 'Denmark')\n",
      "(5, 'Elizabeth', 21, 'female', 'Canada')\n",
      "(6, 'James', 25, 'male', 'USA')\n",
      "(7, 'Leila', 32, 'female', 'France')\n",
      "(8, 'Brigitte', 35, 'female', 'England')\n",
      "(9, 'Mike', 40, 'male', 'Denmark')\n",
      "(10, 'Elizabeth', 21, 'female', 'Canada')\n"
     ]
    }
   ],
   "source": [
    "select_users = \"SELECT * FROM users\"\n",
    "users = execute_read_query(connection, select_users)\n",
    "\n",
    "for user in users:\n",
    "    print(user)"
   ]
  },
  {
   "cell_type": "code",
   "execution_count": 21,
   "id": "a174c8d9",
   "metadata": {},
   "outputs": [
    {
     "data": {
      "text/plain": [
       "[('James',), ('Leila',), ('Brigitte',), ('Mike',), ('Elizabeth',)]"
      ]
     },
     "execution_count": 21,
     "metadata": {},
     "output_type": "execute_result"
    }
   ],
   "source": [
    "distinct_ = \"SELECT DISTINCT name  FROM users\"\n",
    "distinct = execute_read_query(connection, distinct_)\n",
    "distinct"
   ]
  },
  {
   "cell_type": "code",
   "execution_count": 22,
   "id": "c911928f",
   "metadata": {},
   "outputs": [
    {
     "data": {
      "text/plain": [
       "[(1, 'James', 'I am feeling very happy today'),\n",
       " (2, 'Leila', 'The weather is very hot today'),\n",
       " (3, 'Brigitte', 'I need some help with my work'),\n",
       " (4, 'Mike', 'I am getting married'),\n",
       " (5, 'Elizabeth', 'It was a fantastic game of tennis'),\n",
       " (6, 'James', 'Anyone up for a late-night party today?'),\n",
       " (7, 'Leila', 'I am feeling very happy today'),\n",
       " (8, 'Brigitte', 'The weather is very hot today'),\n",
       " (9, 'Mike', 'I need some help with my work'),\n",
       " (10, 'Elizabeth', 'I am getting married')]"
      ]
     },
     "execution_count": 22,
     "metadata": {},
     "output_type": "execute_result"
    }
   ],
   "source": [
    "merge = \"\"\"\n",
    "SELECT users.id\n",
    "      ,users.name\n",
    "      ,posts.description\n",
    "FROM posts\n",
    "     INNER JOIN users ON posts.id = users.id\n",
    "\"\"\"\n",
    "merge_q = execute_read_query(connection, merge)\n",
    "merge_q"
   ]
  },
  {
   "cell_type": "code",
   "execution_count": null,
   "id": "e321493f",
   "metadata": {},
   "outputs": [],
   "source": []
  }
 ],
 "metadata": {
  "kernelspec": {
   "display_name": "Python 3 (ipykernel)",
   "language": "python",
   "name": "python3"
  },
  "language_info": {
   "codemirror_mode": {
    "name": "ipython",
    "version": 3
   },
   "file_extension": ".py",
   "mimetype": "text/x-python",
   "name": "python",
   "nbconvert_exporter": "python",
   "pygments_lexer": "ipython3",
   "version": "3.9.7"
  }
 },
 "nbformat": 4,
 "nbformat_minor": 5
}
